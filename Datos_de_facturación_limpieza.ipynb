{
  "nbformat": 4,
  "nbformat_minor": 0,
  "metadata": {
    "colab": {
      "provenance": [],
      "include_colab_link": true
    },
    "kernelspec": {
      "name": "python3",
      "display_name": "Python 3"
    },
    "language_info": {
      "name": "python"
    }
  },
  "cells": [
    {
      "cell_type": "markdown",
      "metadata": {
        "id": "view-in-github",
        "colab_type": "text"
      },
      "source": [
        "<a href=\"https://colab.research.google.com/github/brenvilla/Valores_Nulos/blob/main/Datos_de_facturaci%C3%B3n_limpieza.ipynb\" target=\"_parent\"><img src=\"https://colab.research.google.com/assets/colab-badge.svg\" alt=\"Open In Colab\"/></a>"
      ]
    },
    {
      "cell_type": "code",
      "execution_count": null,
      "metadata": {
        "id": "rsP9g-jDbsRZ"
      },
      "outputs": [],
      "source": [
        "#Importamos librerías requeridas\n",
        "import pandas as pd\n",
        "import numpy as np\n",
        "import matplotlib.pyplot as plt\n",
        "import seaborn as sns"
      ]
    },
    {
      "cell_type": "code",
      "source": [
        "\n",
        "from google.colab import files\n",
        "files.upload()"
      ],
      "metadata": {
        "id": "IFwBasx-by9Z"
      },
      "execution_count": null,
      "outputs": []
    },
    {
      "cell_type": "code",
      "source": [
        "#Carga desde un archivo .xlsx sin indice\n",
        "df= pd.read_excel('Datos de Facturacion.xlsx')\n",
        "df"
      ],
      "metadata": {
        "colab": {
          "base_uri": "https://localhost:8080/",
          "height": 424
        },
        "id": "Mh8Hn-AbdACD",
        "outputId": "84d9d0c1-9bb2-48bd-8ee6-a53b2cddd510"
      },
      "execution_count": null,
      "outputs": [
        {
          "output_type": "execute_result",
          "data": {
            "text/plain": [
              "      CVE_DOC    CVE_CLPV STATUS  CVE_VEND               FECHAELAB  FECHA_DOC  \\\n",
              "0      F29414        2465      C       1.0 2019-09-03 08:58:42.000 2019-09-03   \n",
              "1      F29415        3926      C       1.0 2019-09-03 09:55:14.000 2019-09-03   \n",
              "2      F29416        3926      C       1.0 2019-09-03 13:25:33.000 2019-09-03   \n",
              "3      F29417        3926      C       1.0 2019-09-03 13:33:23.000 2019-09-03   \n",
              "4      F29418        6813      C       2.0 2019-09-03 14:23:45.000 2019-09-03   \n",
              "...       ...         ...    ...       ...                     ...        ...   \n",
              "10890  F40306        8842      E       2.0 2023-03-06 16:09:39.013 2023-03-06   \n",
              "10891  F40307        6218      E       2.0 2023-03-06 16:38:42.933 2023-03-06   \n",
              "10892  F40308        5926      E       2.0 2023-03-06 17:02:33.390 2023-03-06   \n",
              "10893  F40309         361      E       2.0 2023-03-07 12:43:49.567 2023-03-07   \n",
              "10894  F40310        3011      E       2.0 2023-03-07 12:45:58.407 2023-03-07   \n",
              "\n",
              "                 FECHA_ENT  FECHA_VEN FECHA_CANCELA  CAN_TOT  DES_TOT  DES_FIN  \n",
              "0      2019-09-03 00:00:00 2019-09-18    2019-09-04  3980.00      0.0        0  \n",
              "1      2019-09-03 00:00:00 2019-10-03    2019-09-03  1550.00      0.0        0  \n",
              "2      2019-09-03 00:00:00 2019-10-03    2019-09-03  1550.00      0.0        0  \n",
              "3      2019-09-03 00:00:00 2019-10-03    2019-09-17  1550.00      0.0        0  \n",
              "4      2019-09-03 00:00:00 2019-09-03    2019-09-10  2435.44      0.0        0  \n",
              "...                    ...        ...           ...      ...      ...      ...  \n",
              "10890  2023-03-01 00:00:00 2023-03-06           NaT  3272.00      0.0        0  \n",
              "10891  2023-03-06 00:00:00 2023-03-06           NaT   504.15      0.0        0  \n",
              "10892  2023-03-06 00:00:00 2023-03-06           NaT   275.68      0.0        0  \n",
              "10893  2023-03-07 00:00:00 2023-03-07           NaT   129.30      0.0        0  \n",
              "10894  2023-03-01 00:00:00 2023-03-07           NaT   517.20      0.0        0  \n",
              "\n",
              "[10895 rows x 12 columns]"
            ],
            "text/html": [
              "\n",
              "  <div id=\"df-a9ea8594-e3b6-4450-943f-c2f96df4f4fa\">\n",
              "    <div class=\"colab-df-container\">\n",
              "      <div>\n",
              "<style scoped>\n",
              "    .dataframe tbody tr th:only-of-type {\n",
              "        vertical-align: middle;\n",
              "    }\n",
              "\n",
              "    .dataframe tbody tr th {\n",
              "        vertical-align: top;\n",
              "    }\n",
              "\n",
              "    .dataframe thead th {\n",
              "        text-align: right;\n",
              "    }\n",
              "</style>\n",
              "<table border=\"1\" class=\"dataframe\">\n",
              "  <thead>\n",
              "    <tr style=\"text-align: right;\">\n",
              "      <th></th>\n",
              "      <th>CVE_DOC</th>\n",
              "      <th>CVE_CLPV</th>\n",
              "      <th>STATUS</th>\n",
              "      <th>CVE_VEND</th>\n",
              "      <th>FECHAELAB</th>\n",
              "      <th>FECHA_DOC</th>\n",
              "      <th>FECHA_ENT</th>\n",
              "      <th>FECHA_VEN</th>\n",
              "      <th>FECHA_CANCELA</th>\n",
              "      <th>CAN_TOT</th>\n",
              "      <th>DES_TOT</th>\n",
              "      <th>DES_FIN</th>\n",
              "    </tr>\n",
              "  </thead>\n",
              "  <tbody>\n",
              "    <tr>\n",
              "      <th>0</th>\n",
              "      <td>F29414</td>\n",
              "      <td>2465</td>\n",
              "      <td>C</td>\n",
              "      <td>1.0</td>\n",
              "      <td>2019-09-03 08:58:42.000</td>\n",
              "      <td>2019-09-03</td>\n",
              "      <td>2019-09-03 00:00:00</td>\n",
              "      <td>2019-09-18</td>\n",
              "      <td>2019-09-04</td>\n",
              "      <td>3980.00</td>\n",
              "      <td>0.0</td>\n",
              "      <td>0</td>\n",
              "    </tr>\n",
              "    <tr>\n",
              "      <th>1</th>\n",
              "      <td>F29415</td>\n",
              "      <td>3926</td>\n",
              "      <td>C</td>\n",
              "      <td>1.0</td>\n",
              "      <td>2019-09-03 09:55:14.000</td>\n",
              "      <td>2019-09-03</td>\n",
              "      <td>2019-09-03 00:00:00</td>\n",
              "      <td>2019-10-03</td>\n",
              "      <td>2019-09-03</td>\n",
              "      <td>1550.00</td>\n",
              "      <td>0.0</td>\n",
              "      <td>0</td>\n",
              "    </tr>\n",
              "    <tr>\n",
              "      <th>2</th>\n",
              "      <td>F29416</td>\n",
              "      <td>3926</td>\n",
              "      <td>C</td>\n",
              "      <td>1.0</td>\n",
              "      <td>2019-09-03 13:25:33.000</td>\n",
              "      <td>2019-09-03</td>\n",
              "      <td>2019-09-03 00:00:00</td>\n",
              "      <td>2019-10-03</td>\n",
              "      <td>2019-09-03</td>\n",
              "      <td>1550.00</td>\n",
              "      <td>0.0</td>\n",
              "      <td>0</td>\n",
              "    </tr>\n",
              "    <tr>\n",
              "      <th>3</th>\n",
              "      <td>F29417</td>\n",
              "      <td>3926</td>\n",
              "      <td>C</td>\n",
              "      <td>1.0</td>\n",
              "      <td>2019-09-03 13:33:23.000</td>\n",
              "      <td>2019-09-03</td>\n",
              "      <td>2019-09-03 00:00:00</td>\n",
              "      <td>2019-10-03</td>\n",
              "      <td>2019-09-17</td>\n",
              "      <td>1550.00</td>\n",
              "      <td>0.0</td>\n",
              "      <td>0</td>\n",
              "    </tr>\n",
              "    <tr>\n",
              "      <th>4</th>\n",
              "      <td>F29418</td>\n",
              "      <td>6813</td>\n",
              "      <td>C</td>\n",
              "      <td>2.0</td>\n",
              "      <td>2019-09-03 14:23:45.000</td>\n",
              "      <td>2019-09-03</td>\n",
              "      <td>2019-09-03 00:00:00</td>\n",
              "      <td>2019-09-03</td>\n",
              "      <td>2019-09-10</td>\n",
              "      <td>2435.44</td>\n",
              "      <td>0.0</td>\n",
              "      <td>0</td>\n",
              "    </tr>\n",
              "    <tr>\n",
              "      <th>...</th>\n",
              "      <td>...</td>\n",
              "      <td>...</td>\n",
              "      <td>...</td>\n",
              "      <td>...</td>\n",
              "      <td>...</td>\n",
              "      <td>...</td>\n",
              "      <td>...</td>\n",
              "      <td>...</td>\n",
              "      <td>...</td>\n",
              "      <td>...</td>\n",
              "      <td>...</td>\n",
              "      <td>...</td>\n",
              "    </tr>\n",
              "    <tr>\n",
              "      <th>10890</th>\n",
              "      <td>F40306</td>\n",
              "      <td>8842</td>\n",
              "      <td>E</td>\n",
              "      <td>2.0</td>\n",
              "      <td>2023-03-06 16:09:39.013</td>\n",
              "      <td>2023-03-06</td>\n",
              "      <td>2023-03-01 00:00:00</td>\n",
              "      <td>2023-03-06</td>\n",
              "      <td>NaT</td>\n",
              "      <td>3272.00</td>\n",
              "      <td>0.0</td>\n",
              "      <td>0</td>\n",
              "    </tr>\n",
              "    <tr>\n",
              "      <th>10891</th>\n",
              "      <td>F40307</td>\n",
              "      <td>6218</td>\n",
              "      <td>E</td>\n",
              "      <td>2.0</td>\n",
              "      <td>2023-03-06 16:38:42.933</td>\n",
              "      <td>2023-03-06</td>\n",
              "      <td>2023-03-06 00:00:00</td>\n",
              "      <td>2023-03-06</td>\n",
              "      <td>NaT</td>\n",
              "      <td>504.15</td>\n",
              "      <td>0.0</td>\n",
              "      <td>0</td>\n",
              "    </tr>\n",
              "    <tr>\n",
              "      <th>10892</th>\n",
              "      <td>F40308</td>\n",
              "      <td>5926</td>\n",
              "      <td>E</td>\n",
              "      <td>2.0</td>\n",
              "      <td>2023-03-06 17:02:33.390</td>\n",
              "      <td>2023-03-06</td>\n",
              "      <td>2023-03-06 00:00:00</td>\n",
              "      <td>2023-03-06</td>\n",
              "      <td>NaT</td>\n",
              "      <td>275.68</td>\n",
              "      <td>0.0</td>\n",
              "      <td>0</td>\n",
              "    </tr>\n",
              "    <tr>\n",
              "      <th>10893</th>\n",
              "      <td>F40309</td>\n",
              "      <td>361</td>\n",
              "      <td>E</td>\n",
              "      <td>2.0</td>\n",
              "      <td>2023-03-07 12:43:49.567</td>\n",
              "      <td>2023-03-07</td>\n",
              "      <td>2023-03-07 00:00:00</td>\n",
              "      <td>2023-03-07</td>\n",
              "      <td>NaT</td>\n",
              "      <td>129.30</td>\n",
              "      <td>0.0</td>\n",
              "      <td>0</td>\n",
              "    </tr>\n",
              "    <tr>\n",
              "      <th>10894</th>\n",
              "      <td>F40310</td>\n",
              "      <td>3011</td>\n",
              "      <td>E</td>\n",
              "      <td>2.0</td>\n",
              "      <td>2023-03-07 12:45:58.407</td>\n",
              "      <td>2023-03-07</td>\n",
              "      <td>2023-03-01 00:00:00</td>\n",
              "      <td>2023-03-07</td>\n",
              "      <td>NaT</td>\n",
              "      <td>517.20</td>\n",
              "      <td>0.0</td>\n",
              "      <td>0</td>\n",
              "    </tr>\n",
              "  </tbody>\n",
              "</table>\n",
              "<p>10895 rows × 12 columns</p>\n",
              "</div>\n",
              "      <button class=\"colab-df-convert\" onclick=\"convertToInteractive('df-a9ea8594-e3b6-4450-943f-c2f96df4f4fa')\"\n",
              "              title=\"Convert this dataframe to an interactive table.\"\n",
              "              style=\"display:none;\">\n",
              "        \n",
              "  <svg xmlns=\"http://www.w3.org/2000/svg\" height=\"24px\"viewBox=\"0 0 24 24\"\n",
              "       width=\"24px\">\n",
              "    <path d=\"M0 0h24v24H0V0z\" fill=\"none\"/>\n",
              "    <path d=\"M18.56 5.44l.94 2.06.94-2.06 2.06-.94-2.06-.94-.94-2.06-.94 2.06-2.06.94zm-11 1L8.5 8.5l.94-2.06 2.06-.94-2.06-.94L8.5 2.5l-.94 2.06-2.06.94zm10 10l.94 2.06.94-2.06 2.06-.94-2.06-.94-.94-2.06-.94 2.06-2.06.94z\"/><path d=\"M17.41 7.96l-1.37-1.37c-.4-.4-.92-.59-1.43-.59-.52 0-1.04.2-1.43.59L10.3 9.45l-7.72 7.72c-.78.78-.78 2.05 0 2.83L4 21.41c.39.39.9.59 1.41.59.51 0 1.02-.2 1.41-.59l7.78-7.78 2.81-2.81c.8-.78.8-2.07 0-2.86zM5.41 20L4 18.59l7.72-7.72 1.47 1.35L5.41 20z\"/>\n",
              "  </svg>\n",
              "      </button>\n",
              "      \n",
              "  <style>\n",
              "    .colab-df-container {\n",
              "      display:flex;\n",
              "      flex-wrap:wrap;\n",
              "      gap: 12px;\n",
              "    }\n",
              "\n",
              "    .colab-df-convert {\n",
              "      background-color: #E8F0FE;\n",
              "      border: none;\n",
              "      border-radius: 50%;\n",
              "      cursor: pointer;\n",
              "      display: none;\n",
              "      fill: #1967D2;\n",
              "      height: 32px;\n",
              "      padding: 0 0 0 0;\n",
              "      width: 32px;\n",
              "    }\n",
              "\n",
              "    .colab-df-convert:hover {\n",
              "      background-color: #E2EBFA;\n",
              "      box-shadow: 0px 1px 2px rgba(60, 64, 67, 0.3), 0px 1px 3px 1px rgba(60, 64, 67, 0.15);\n",
              "      fill: #174EA6;\n",
              "    }\n",
              "\n",
              "    [theme=dark] .colab-df-convert {\n",
              "      background-color: #3B4455;\n",
              "      fill: #D2E3FC;\n",
              "    }\n",
              "\n",
              "    [theme=dark] .colab-df-convert:hover {\n",
              "      background-color: #434B5C;\n",
              "      box-shadow: 0px 1px 3px 1px rgba(0, 0, 0, 0.15);\n",
              "      filter: drop-shadow(0px 1px 2px rgba(0, 0, 0, 0.3));\n",
              "      fill: #FFFFFF;\n",
              "    }\n",
              "  </style>\n",
              "\n",
              "      <script>\n",
              "        const buttonEl =\n",
              "          document.querySelector('#df-a9ea8594-e3b6-4450-943f-c2f96df4f4fa button.colab-df-convert');\n",
              "        buttonEl.style.display =\n",
              "          google.colab.kernel.accessAllowed ? 'block' : 'none';\n",
              "\n",
              "        async function convertToInteractive(key) {\n",
              "          const element = document.querySelector('#df-a9ea8594-e3b6-4450-943f-c2f96df4f4fa');\n",
              "          const dataTable =\n",
              "            await google.colab.kernel.invokeFunction('convertToInteractive',\n",
              "                                                     [key], {});\n",
              "          if (!dataTable) return;\n",
              "\n",
              "          const docLinkHtml = 'Like what you see? Visit the ' +\n",
              "            '<a target=\"_blank\" href=https://colab.research.google.com/notebooks/data_table.ipynb>data table notebook</a>'\n",
              "            + ' to learn more about interactive tables.';\n",
              "          element.innerHTML = '';\n",
              "          dataTable['output_type'] = 'display_data';\n",
              "          await google.colab.output.renderOutput(dataTable, element);\n",
              "          const docLink = document.createElement('div');\n",
              "          docLink.innerHTML = docLinkHtml;\n",
              "          element.appendChild(docLink);\n",
              "        }\n",
              "      </script>\n",
              "    </div>\n",
              "  </div>\n",
              "  "
            ]
          },
          "metadata": {},
          "execution_count": 18
        }
      ]
    },
    {
      "cell_type": "code",
      "source": [
        "df.info()"
      ],
      "metadata": {
        "colab": {
          "base_uri": "https://localhost:8080/"
        },
        "id": "jRzujD3QehnB",
        "outputId": "f7caf200-13e7-4ed6-83ca-6edfc9755137"
      },
      "execution_count": null,
      "outputs": [
        {
          "output_type": "stream",
          "name": "stdout",
          "text": [
            "<class 'pandas.core.frame.DataFrame'>\n",
            "RangeIndex: 10895 entries, 0 to 10894\n",
            "Data columns (total 12 columns):\n",
            " #   Column         Non-Null Count  Dtype         \n",
            "---  ------         --------------  -----         \n",
            " 0   CVE_DOC        10895 non-null  object        \n",
            " 1   CVE_CLPV       10895 non-null  object        \n",
            " 2   STATUS         10895 non-null  object        \n",
            " 3   CVE_VEND       10847 non-null  float64       \n",
            " 4   FECHAELAB      10895 non-null  datetime64[ns]\n",
            " 5   FECHA_DOC      10895 non-null  datetime64[ns]\n",
            " 6   FECHA_ENT      10893 non-null  object        \n",
            " 7   FECHA_VEN      10895 non-null  datetime64[ns]\n",
            " 8   FECHA_CANCELA  358 non-null    datetime64[ns]\n",
            " 9   CAN_TOT        10895 non-null  float64       \n",
            " 10  DES_TOT        10895 non-null  float64       \n",
            " 11  DES_FIN        10895 non-null  int64         \n",
            "dtypes: datetime64[ns](4), float64(3), int64(1), object(4)\n",
            "memory usage: 1021.5+ KB\n"
          ]
        }
      ]
    },
    {
      "cell_type": "code",
      "source": [
        "valores_nulos=df.isnull().sum()\n",
        "valores_nulos"
      ],
      "metadata": {
        "colab": {
          "base_uri": "https://localhost:8080/"
        },
        "id": "cWYCgbAte0k3",
        "outputId": "520a1fcd-2138-4333-a1b6-dc218ba7d62d"
      },
      "execution_count": null,
      "outputs": [
        {
          "output_type": "execute_result",
          "data": {
            "text/plain": [
              "CVE_DOC              0\n",
              "CVE_CLPV             0\n",
              "STATUS               0\n",
              "CVE_VEND            48\n",
              "FECHAELAB            0\n",
              "FECHA_DOC            0\n",
              "FECHA_ENT            2\n",
              "FECHA_VEN            0\n",
              "FECHA_CANCELA    10537\n",
              "CAN_TOT              0\n",
              "DES_TOT              0\n",
              "DES_FIN              0\n",
              "dtype: int64"
            ]
          },
          "metadata": {},
          "execution_count": 20
        }
      ]
    },
    {
      "cell_type": "code",
      "source": [
        "df[\"CVE_VEND\"]= df[\"CVE_VEND\"].fillna(0)\n"
      ],
      "metadata": {
        "id": "pHgXX99PgMVl"
      },
      "execution_count": null,
      "outputs": []
    },
    {
      "cell_type": "code",
      "source": [
        "valores_nulos=df.isnull().sum()\n",
        "valores_nulos"
      ],
      "metadata": {
        "colab": {
          "base_uri": "https://localhost:8080/"
        },
        "id": "Cg7ksqijgazt",
        "outputId": "3b70cc97-01db-4774-fc79-e6e8dd54f4c8"
      },
      "execution_count": null,
      "outputs": [
        {
          "output_type": "execute_result",
          "data": {
            "text/plain": [
              "CVE_DOC              0\n",
              "CVE_CLPV             0\n",
              "STATUS               0\n",
              "CVE_VEND             0\n",
              "FECHAELAB            0\n",
              "FECHA_DOC            0\n",
              "FECHA_ENT            2\n",
              "FECHA_VEN            0\n",
              "FECHA_CANCELA    10537\n",
              "CAN_TOT              0\n",
              "DES_TOT              0\n",
              "DES_FIN              0\n",
              "dtype: int64"
            ]
          },
          "metadata": {},
          "execution_count": 22
        }
      ]
    },
    {
      "cell_type": "code",
      "source": [
        "df['FECHA_ENT'] = df[\"FECHA_ENT\"].fillna(\"NA\")"
      ],
      "metadata": {
        "id": "M_XRanRFh_VD"
      },
      "execution_count": null,
      "outputs": []
    },
    {
      "cell_type": "code",
      "source": [
        "valores_nulos=df.isnull().sum()\n",
        "valores_nulos"
      ],
      "metadata": {
        "colab": {
          "base_uri": "https://localhost:8080/"
        },
        "id": "PVJYsmyjiUDE",
        "outputId": "00dff797-5cba-4a9d-84eb-ccc41f14961c"
      },
      "execution_count": null,
      "outputs": [
        {
          "output_type": "execute_result",
          "data": {
            "text/plain": [
              "CVE_DOC              0\n",
              "CVE_CLPV             0\n",
              "STATUS               0\n",
              "CVE_VEND             0\n",
              "FECHAELAB            0\n",
              "FECHA_DOC            0\n",
              "FECHA_ENT            0\n",
              "FECHA_VEN            0\n",
              "FECHA_CANCELA    10537\n",
              "CAN_TOT              0\n",
              "DES_TOT              0\n",
              "DES_FIN              0\n",
              "dtype: int64"
            ]
          },
          "metadata": {},
          "execution_count": 24
        }
      ]
    },
    {
      "cell_type": "code",
      "source": [
        "df['FECHA_CANCELA'] = df[\"FECHA_CANCELA\"].fillna(\"NA\")"
      ],
      "metadata": {
        "id": "IG1NgZ9Wgeqt"
      },
      "execution_count": null,
      "outputs": []
    },
    {
      "cell_type": "code",
      "source": [
        "valores_nulos=df.isnull().sum()\n",
        "valores_nulos"
      ],
      "metadata": {
        "colab": {
          "base_uri": "https://localhost:8080/"
        },
        "id": "3gBTfJKygrMH",
        "outputId": "4bd15a62-920f-410e-a735-e42599966ed7"
      },
      "execution_count": null,
      "outputs": [
        {
          "output_type": "execute_result",
          "data": {
            "text/plain": [
              "CVE_DOC          0\n",
              "CVE_CLPV         0\n",
              "STATUS           0\n",
              "CVE_VEND         0\n",
              "FECHAELAB        0\n",
              "FECHA_DOC        0\n",
              "FECHA_ENT        0\n",
              "FECHA_VEN        0\n",
              "FECHA_CANCELA    0\n",
              "CAN_TOT          0\n",
              "DES_TOT          0\n",
              "DES_FIN          0\n",
              "dtype: int64"
            ]
          },
          "metadata": {},
          "execution_count": 26
        }
      ]
    },
    {
      "cell_type": "code",
      "source": [
        "valores_nulos=df.isnull().sum().sum()\n",
        "valores_nulos"
      ],
      "metadata": {
        "colab": {
          "base_uri": "https://localhost:8080/"
        },
        "id": "wpSBRnfOhu4b",
        "outputId": "1611d7b4-7ad2-4f08-f6a4-3da399b3863f"
      },
      "execution_count": null,
      "outputs": [
        {
          "output_type": "execute_result",
          "data": {
            "text/plain": [
              "0"
            ]
          },
          "metadata": {},
          "execution_count": 27
        }
      ]
    },
    {
      "cell_type": "code",
      "source": [
        "df.to_csv(\"Datos_facturación_sin_nulos.csv\")"
      ],
      "metadata": {
        "id": "Mv9bsD1HhKyw"
      },
      "execution_count": null,
      "outputs": []
    },
    {
      "cell_type": "code",
      "source": [
        "from google.colab import files \n",
        "\n",
        "files.download(\"Datos_facturación_sin_nulos.csv\")"
      ],
      "metadata": {
        "colab": {
          "base_uri": "https://localhost:8080/",
          "height": 17
        },
        "id": "ZAOVO-BLhVTm",
        "outputId": "fc6cb084-8bd1-48ae-a733-497afa2c8855"
      },
      "execution_count": null,
      "outputs": [
        {
          "output_type": "display_data",
          "data": {
            "text/plain": [
              "<IPython.core.display.Javascript object>"
            ],
            "application/javascript": [
              "\n",
              "    async function download(id, filename, size) {\n",
              "      if (!google.colab.kernel.accessAllowed) {\n",
              "        return;\n",
              "      }\n",
              "      const div = document.createElement('div');\n",
              "      const label = document.createElement('label');\n",
              "      label.textContent = `Downloading \"${filename}\": `;\n",
              "      div.appendChild(label);\n",
              "      const progress = document.createElement('progress');\n",
              "      progress.max = size;\n",
              "      div.appendChild(progress);\n",
              "      document.body.appendChild(div);\n",
              "\n",
              "      const buffers = [];\n",
              "      let downloaded = 0;\n",
              "\n",
              "      const channel = await google.colab.kernel.comms.open(id);\n",
              "      // Send a message to notify the kernel that we're ready.\n",
              "      channel.send({})\n",
              "\n",
              "      for await (const message of channel.messages) {\n",
              "        // Send a message to notify the kernel that we're ready.\n",
              "        channel.send({})\n",
              "        if (message.buffers) {\n",
              "          for (const buffer of message.buffers) {\n",
              "            buffers.push(buffer);\n",
              "            downloaded += buffer.byteLength;\n",
              "            progress.value = downloaded;\n",
              "          }\n",
              "        }\n",
              "      }\n",
              "      const blob = new Blob(buffers, {type: 'application/binary'});\n",
              "      const a = document.createElement('a');\n",
              "      a.href = window.URL.createObjectURL(blob);\n",
              "      a.download = filename;\n",
              "      div.appendChild(a);\n",
              "      a.click();\n",
              "      div.remove();\n",
              "    }\n",
              "  "
            ]
          },
          "metadata": {}
        },
        {
          "output_type": "display_data",
          "data": {
            "text/plain": [
              "<IPython.core.display.Javascript object>"
            ],
            "application/javascript": [
              "download(\"download_a93cba67-e2ee-4b9d-a20b-c7816e141581\", \"Datos_facturaci\\u00f3n_sin_nulos.csv\", 1272204)"
            ]
          },
          "metadata": {}
        }
      ]
    }
  ]
}