{
  "nbformat": 4,
  "nbformat_minor": 0,
  "metadata": {
    "colab": {
      "provenance": [],
      "include_colab_link": true
    },
    "kernelspec": {
      "name": "python3",
      "display_name": "Python 3"
    },
    "language_info": {
      "name": "python"
    }
  },
  "cells": [
    {
      "cell_type": "markdown",
      "metadata": {
        "id": "view-in-github",
        "colab_type": "text"
      },
      "source": [
        "<a href=\"https://colab.research.google.com/github/brenvilla/Valores_Nulos/blob/main/Gastos_Costos_limpieza_nulos2021_2023.ipynb\" target=\"_parent\"><img src=\"https://colab.research.google.com/assets/colab-badge.svg\" alt=\"Open In Colab\"/></a>"
      ]
    },
    {
      "cell_type": "code",
      "execution_count": null,
      "metadata": {
        "id": "hbPxlKiZOO1R"
      },
      "outputs": [],
      "source": [
        "import pandas as pd"
      ]
    },
    {
      "cell_type": "code",
      "source": [
        "gc2021 = pd.read_csv('gastos_costos_2021_nulos.csv')\n",
        "gc2022 = pd.read_csv('gastos_costos_2022_nulos.csv')\n",
        "gc2023 = pd.read_csv('gastos_costos_2023_nulos.csv')"
      ],
      "metadata": {
        "id": "VWopSgV3OSVa"
      },
      "execution_count": null,
      "outputs": []
    },
    {
      "cell_type": "code",
      "source": [
        "#Quitamos la columna Unnamed:0\n",
        "gc2021.pop('Unnamed: 0')"
      ],
      "metadata": {
        "colab": {
          "base_uri": "https://localhost:8080/"
        },
        "id": "TfwpmbPjWqW-",
        "outputId": "6d053974-a98d-4836-ed3d-3e2fe462ea89"
      },
      "execution_count": null,
      "outputs": [
        {
          "output_type": "execute_result",
          "data": {
            "text/plain": [
              "0          0\n",
              "1          1\n",
              "2          3\n",
              "3          4\n",
              "4          7\n",
              "        ... \n",
              "1496    3029\n",
              "1497    3030\n",
              "1498    3032\n",
              "1499    3033\n",
              "1500    3034\n",
              "Name: Unnamed: 0, Length: 1501, dtype: int64"
            ]
          },
          "metadata": {},
          "execution_count": 65
        }
      ]
    },
    {
      "cell_type": "code",
      "source": [
        "gc2022.pop('Unnamed: 0')\n",
        "gc2023.pop('Unnamed: 0')"
      ],
      "metadata": {
        "colab": {
          "base_uri": "https://localhost:8080/"
        },
        "id": "KkSx9SYVWy9g",
        "outputId": "1a05873e-2ece-4ff8-deb0-7fc1c1504666"
      },
      "execution_count": null,
      "outputs": [
        {
          "output_type": "execute_result",
          "data": {
            "text/plain": [
              "0        2\n",
              "1        3\n",
              "2        4\n",
              "3        5\n",
              "4        6\n",
              "      ... \n",
              "187    388\n",
              "188    392\n",
              "189    393\n",
              "190    394\n",
              "191    395\n",
              "Name: Unnamed: 0, Length: 192, dtype: int64"
            ]
          },
          "metadata": {},
          "execution_count": 66
        }
      ]
    },
    {
      "cell_type": "code",
      "source": [
        "#No hay nulos en las columnas del año 2021\n",
        "gc2021.isnull().sum()"
      ],
      "metadata": {
        "colab": {
          "base_uri": "https://localhost:8080/"
        },
        "id": "I99CO_kLWgiT",
        "outputId": "f5b479f0-e82a-4e17-c144-e4f5ba3d483e"
      },
      "execution_count": null,
      "outputs": [
        {
          "output_type": "execute_result",
          "data": {
            "text/plain": [
              "FECHA         0\n",
              "TIPO GASTO    0\n",
              "TC            0\n",
              "TOTAL SAT     0\n",
              "dtype: int64"
            ]
          },
          "metadata": {},
          "execution_count": 67
        }
      ]
    },
    {
      "cell_type": "code",
      "source": [
        "#Observamos 314 nulos en columna TC (Tipo de Cambio)\n",
        "gc2022.isnull().sum()"
      ],
      "metadata": {
        "colab": {
          "base_uri": "https://localhost:8080/"
        },
        "id": "fYSuUyMuXFnz",
        "outputId": "d87ad0f9-80b4-43ea-af19-e030835e24a1"
      },
      "execution_count": null,
      "outputs": [
        {
          "output_type": "execute_result",
          "data": {
            "text/plain": [
              "Fecha           0\n",
              "TIPO GASTO      0\n",
              "TC            314\n",
              "TOTAL SAT       0\n",
              "dtype: int64"
            ]
          },
          "metadata": {},
          "execution_count": 68
        }
      ]
    },
    {
      "cell_type": "code",
      "source": [
        "gc2022.TC.value_counts()"
      ],
      "metadata": {
        "colab": {
          "base_uri": "https://localhost:8080/"
        },
        "id": "AjNRba7XXPNI",
        "outputId": "19b3b337-015e-4044-dbe3-30dcced3c4d2"
      },
      "execution_count": null,
      "outputs": [
        {
          "output_type": "execute_result",
          "data": {
            "text/plain": [
              "1.0000     1032\n",
              "20.4672       1\n",
              "20.3977       1\n",
              "20.6134       1\n",
              "20.5212       1\n",
              "19.8911       1\n",
              "20.3453       1\n",
              "19.8300       1\n",
              "19.6855       1\n",
              "20.1353       1\n",
              "20.7500       1\n",
              "20.3626       1\n",
              "20.1432       1\n",
              "20.1271       1\n",
              "19.8103       1\n",
              "19.3081       1\n",
              "Name: TC, dtype: int64"
            ]
          },
          "metadata": {},
          "execution_count": 69
        }
      ]
    },
    {
      "cell_type": "code",
      "source": [
        "#Observamos que el 98.57% de los datos son \"1\". \n",
        "1032/(1032+15)*100"
      ],
      "metadata": {
        "colab": {
          "base_uri": "https://localhost:8080/"
        },
        "id": "6lmWaFevXcDY",
        "outputId": "616e81a7-da4e-42c7-8071-f69746504cba"
      },
      "execution_count": null,
      "outputs": [
        {
          "output_type": "execute_result",
          "data": {
            "text/plain": [
              "98.56733524355302"
            ]
          },
          "metadata": {},
          "execution_count": 70
        }
      ]
    },
    {
      "cell_type": "code",
      "source": [
        "#TC es el tipo de cambio, que se multiplica con la cantidad de TOTAL_SAT. Por lo tanto los valores en TOTAL_SAT cuando tienen un tipo de cambio\n",
        "# es una cantidad menor. Por lo tanto observamos los comportamientos de los datos por medio de la media y vemos que los valores son incluso mayores. \n",
        "# Esto indica que el tipo de cambio usualmente, muy seguramente no son distintos a 1, pues si lo fuera, se esperaría una media menor a la media del\n",
        "# comportamiento de TOTAL_SAT entera (con y sin nulos). Por lo tanto, 1 sería una buen predicción en TC\n",
        "print('Comportamiento de Total Sat con TC nulos')\n",
        "print(gc2022.iloc[:,3][gc2022.TC.isnull()].describe())\n",
        "print()\n",
        "print('Comportamiento de Total Sat normal')\n",
        "print(gc2022.iloc[:,3].describe())"
      ],
      "metadata": {
        "colab": {
          "base_uri": "https://localhost:8080/"
        },
        "id": "U95UclGfXysz",
        "outputId": "59bc5659-b97b-4c17-aff8-32961db3fb77"
      },
      "execution_count": null,
      "outputs": [
        {
          "output_type": "stream",
          "name": "stdout",
          "text": [
            "Comportamiento de Total Sat con TC nulos\n",
            "count      314.000000\n",
            "mean      5585.721943\n",
            "std      10163.102857\n",
            "min      -1095.040000\n",
            "25%        120.880000\n",
            "50%       1095.040000\n",
            "75%       5213.210000\n",
            "max      59054.920000\n",
            "Name: TOTAL SAT, dtype: float64\n",
            "\n",
            "Comportamiento de Total Sat normal\n",
            "count      1361.000000\n",
            "mean       4781.579530\n",
            "std       12881.594949\n",
            "min       -9662.370000\n",
            "25%          98.000000\n",
            "50%         960.000000\n",
            "75%        3493.850000\n",
            "max      330160.820000\n",
            "Name: TOTAL SAT, dtype: float64\n"
          ]
        }
      ]
    },
    {
      "cell_type": "code",
      "source": [
        "#Reemplazamos los nulos con 1\n",
        "gc2022['TC']=gc2022['TC'].fillna(1)\n",
        "gc2022.isnull().sum()"
      ],
      "metadata": {
        "colab": {
          "base_uri": "https://localhost:8080/"
        },
        "id": "07lXDAtHYZtC",
        "outputId": "6c52a3af-c62d-4a2c-94df-05fff0ae43cd"
      },
      "execution_count": null,
      "outputs": [
        {
          "output_type": "execute_result",
          "data": {
            "text/plain": [
              "Fecha         0\n",
              "TIPO GASTO    0\n",
              "TC            0\n",
              "TOTAL SAT     0\n",
              "dtype: int64"
            ]
          },
          "metadata": {},
          "execution_count": 72
        }
      ]
    },
    {
      "cell_type": "code",
      "source": [
        "gc2023"
      ],
      "metadata": {
        "colab": {
          "base_uri": "https://localhost:8080/",
          "height": 423
        },
        "id": "gdYqiSZYaNDu",
        "outputId": "e78e785b-ab69-4730-d93e-c2f08cafa6ad"
      },
      "execution_count": null,
      "outputs": [
        {
          "output_type": "execute_result",
          "data": {
            "text/plain": [
              "          Fecha                TIPO GASTO   TC  TOTAL SAT\n",
              "0    2023-01-01  ARRENDAMIENTO FINANCIERO  1.0    6439.60\n",
              "1    2023-01-01  ARRENDAMIENTO FINANCIERO  1.0    6440.30\n",
              "2    2023-01-01  ARRENDAMIENTO FINANCIERO  1.0    9807.07\n",
              "3    2023-01-01         COMISION BANCARIA  1.0     568.40\n",
              "4    2023-01-01         COMISION BANCARIA  1.0       0.00\n",
              "..          ...                       ...  ...        ...\n",
              "187  2023-02-01            GERENCIA ADMON  1.0   28600.00\n",
              "188  2023-02-01         COMISION BANCARIA  1.0       0.00\n",
              "189  2023-02-01                 ALIMENTOS  1.0     220.00\n",
              "190  2023-02-01         COMISION BANCARIA  1.0   18753.92\n",
              "191  2023-02-01                  GASOLINA  1.0   14472.32\n",
              "\n",
              "[192 rows x 4 columns]"
            ],
            "text/html": [
              "\n",
              "  <div id=\"df-703df2e9-c189-4dff-a5bb-29cdaf9f479a\">\n",
              "    <div class=\"colab-df-container\">\n",
              "      <div>\n",
              "<style scoped>\n",
              "    .dataframe tbody tr th:only-of-type {\n",
              "        vertical-align: middle;\n",
              "    }\n",
              "\n",
              "    .dataframe tbody tr th {\n",
              "        vertical-align: top;\n",
              "    }\n",
              "\n",
              "    .dataframe thead th {\n",
              "        text-align: right;\n",
              "    }\n",
              "</style>\n",
              "<table border=\"1\" class=\"dataframe\">\n",
              "  <thead>\n",
              "    <tr style=\"text-align: right;\">\n",
              "      <th></th>\n",
              "      <th>Fecha</th>\n",
              "      <th>TIPO GASTO</th>\n",
              "      <th>TC</th>\n",
              "      <th>TOTAL SAT</th>\n",
              "    </tr>\n",
              "  </thead>\n",
              "  <tbody>\n",
              "    <tr>\n",
              "      <th>0</th>\n",
              "      <td>2023-01-01</td>\n",
              "      <td>ARRENDAMIENTO FINANCIERO</td>\n",
              "      <td>1.0</td>\n",
              "      <td>6439.60</td>\n",
              "    </tr>\n",
              "    <tr>\n",
              "      <th>1</th>\n",
              "      <td>2023-01-01</td>\n",
              "      <td>ARRENDAMIENTO FINANCIERO</td>\n",
              "      <td>1.0</td>\n",
              "      <td>6440.30</td>\n",
              "    </tr>\n",
              "    <tr>\n",
              "      <th>2</th>\n",
              "      <td>2023-01-01</td>\n",
              "      <td>ARRENDAMIENTO FINANCIERO</td>\n",
              "      <td>1.0</td>\n",
              "      <td>9807.07</td>\n",
              "    </tr>\n",
              "    <tr>\n",
              "      <th>3</th>\n",
              "      <td>2023-01-01</td>\n",
              "      <td>COMISION BANCARIA</td>\n",
              "      <td>1.0</td>\n",
              "      <td>568.40</td>\n",
              "    </tr>\n",
              "    <tr>\n",
              "      <th>4</th>\n",
              "      <td>2023-01-01</td>\n",
              "      <td>COMISION BANCARIA</td>\n",
              "      <td>1.0</td>\n",
              "      <td>0.00</td>\n",
              "    </tr>\n",
              "    <tr>\n",
              "      <th>...</th>\n",
              "      <td>...</td>\n",
              "      <td>...</td>\n",
              "      <td>...</td>\n",
              "      <td>...</td>\n",
              "    </tr>\n",
              "    <tr>\n",
              "      <th>187</th>\n",
              "      <td>2023-02-01</td>\n",
              "      <td>GERENCIA ADMON</td>\n",
              "      <td>1.0</td>\n",
              "      <td>28600.00</td>\n",
              "    </tr>\n",
              "    <tr>\n",
              "      <th>188</th>\n",
              "      <td>2023-02-01</td>\n",
              "      <td>COMISION BANCARIA</td>\n",
              "      <td>1.0</td>\n",
              "      <td>0.00</td>\n",
              "    </tr>\n",
              "    <tr>\n",
              "      <th>189</th>\n",
              "      <td>2023-02-01</td>\n",
              "      <td>ALIMENTOS</td>\n",
              "      <td>1.0</td>\n",
              "      <td>220.00</td>\n",
              "    </tr>\n",
              "    <tr>\n",
              "      <th>190</th>\n",
              "      <td>2023-02-01</td>\n",
              "      <td>COMISION BANCARIA</td>\n",
              "      <td>1.0</td>\n",
              "      <td>18753.92</td>\n",
              "    </tr>\n",
              "    <tr>\n",
              "      <th>191</th>\n",
              "      <td>2023-02-01</td>\n",
              "      <td>GASOLINA</td>\n",
              "      <td>1.0</td>\n",
              "      <td>14472.32</td>\n",
              "    </tr>\n",
              "  </tbody>\n",
              "</table>\n",
              "<p>192 rows × 4 columns</p>\n",
              "</div>\n",
              "      <button class=\"colab-df-convert\" onclick=\"convertToInteractive('df-703df2e9-c189-4dff-a5bb-29cdaf9f479a')\"\n",
              "              title=\"Convert this dataframe to an interactive table.\"\n",
              "              style=\"display:none;\">\n",
              "        \n",
              "  <svg xmlns=\"http://www.w3.org/2000/svg\" height=\"24px\"viewBox=\"0 0 24 24\"\n",
              "       width=\"24px\">\n",
              "    <path d=\"M0 0h24v24H0V0z\" fill=\"none\"/>\n",
              "    <path d=\"M18.56 5.44l.94 2.06.94-2.06 2.06-.94-2.06-.94-.94-2.06-.94 2.06-2.06.94zm-11 1L8.5 8.5l.94-2.06 2.06-.94-2.06-.94L8.5 2.5l-.94 2.06-2.06.94zm10 10l.94 2.06.94-2.06 2.06-.94-2.06-.94-.94-2.06-.94 2.06-2.06.94z\"/><path d=\"M17.41 7.96l-1.37-1.37c-.4-.4-.92-.59-1.43-.59-.52 0-1.04.2-1.43.59L10.3 9.45l-7.72 7.72c-.78.78-.78 2.05 0 2.83L4 21.41c.39.39.9.59 1.41.59.51 0 1.02-.2 1.41-.59l7.78-7.78 2.81-2.81c.8-.78.8-2.07 0-2.86zM5.41 20L4 18.59l7.72-7.72 1.47 1.35L5.41 20z\"/>\n",
              "  </svg>\n",
              "      </button>\n",
              "      \n",
              "  <style>\n",
              "    .colab-df-container {\n",
              "      display:flex;\n",
              "      flex-wrap:wrap;\n",
              "      gap: 12px;\n",
              "    }\n",
              "\n",
              "    .colab-df-convert {\n",
              "      background-color: #E8F0FE;\n",
              "      border: none;\n",
              "      border-radius: 50%;\n",
              "      cursor: pointer;\n",
              "      display: none;\n",
              "      fill: #1967D2;\n",
              "      height: 32px;\n",
              "      padding: 0 0 0 0;\n",
              "      width: 32px;\n",
              "    }\n",
              "\n",
              "    .colab-df-convert:hover {\n",
              "      background-color: #E2EBFA;\n",
              "      box-shadow: 0px 1px 2px rgba(60, 64, 67, 0.3), 0px 1px 3px 1px rgba(60, 64, 67, 0.15);\n",
              "      fill: #174EA6;\n",
              "    }\n",
              "\n",
              "    [theme=dark] .colab-df-convert {\n",
              "      background-color: #3B4455;\n",
              "      fill: #D2E3FC;\n",
              "    }\n",
              "\n",
              "    [theme=dark] .colab-df-convert:hover {\n",
              "      background-color: #434B5C;\n",
              "      box-shadow: 0px 1px 3px 1px rgba(0, 0, 0, 0.15);\n",
              "      filter: drop-shadow(0px 1px 2px rgba(0, 0, 0, 0.3));\n",
              "      fill: #FFFFFF;\n",
              "    }\n",
              "  </style>\n",
              "\n",
              "      <script>\n",
              "        const buttonEl =\n",
              "          document.querySelector('#df-703df2e9-c189-4dff-a5bb-29cdaf9f479a button.colab-df-convert');\n",
              "        buttonEl.style.display =\n",
              "          google.colab.kernel.accessAllowed ? 'block' : 'none';\n",
              "\n",
              "        async function convertToInteractive(key) {\n",
              "          const element = document.querySelector('#df-703df2e9-c189-4dff-a5bb-29cdaf9f479a');\n",
              "          const dataTable =\n",
              "            await google.colab.kernel.invokeFunction('convertToInteractive',\n",
              "                                                     [key], {});\n",
              "          if (!dataTable) return;\n",
              "\n",
              "          const docLinkHtml = 'Like what you see? Visit the ' +\n",
              "            '<a target=\"_blank\" href=https://colab.research.google.com/notebooks/data_table.ipynb>data table notebook</a>'\n",
              "            + ' to learn more about interactive tables.';\n",
              "          element.innerHTML = '';\n",
              "          dataTable['output_type'] = 'display_data';\n",
              "          await google.colab.output.renderOutput(dataTable, element);\n",
              "          const docLink = document.createElement('div');\n",
              "          docLink.innerHTML = docLinkHtml;\n",
              "          element.appendChild(docLink);\n",
              "        }\n",
              "      </script>\n",
              "    </div>\n",
              "  </div>\n",
              "  "
            ]
          },
          "metadata": {},
          "execution_count": 73
        }
      ]
    },
    {
      "cell_type": "code",
      "source": [
        "#Observamos únicamente 8 nulos en columna 'TIPO GASTO'\n",
        "gc2023.isnull().sum()"
      ],
      "metadata": {
        "colab": {
          "base_uri": "https://localhost:8080/"
        },
        "id": "JX1AqydrYSS2",
        "outputId": "df99e3fb-a785-43a3-e940-e184412f1ae4"
      },
      "execution_count": null,
      "outputs": [
        {
          "output_type": "execute_result",
          "data": {
            "text/plain": [
              "Fecha         0\n",
              "TIPO GASTO    8\n",
              "TC            0\n",
              "TOTAL SAT     0\n",
              "dtype: int64"
            ]
          },
          "metadata": {},
          "execution_count": 74
        }
      ]
    },
    {
      "cell_type": "code",
      "source": [
        "#Vemos los valores de TIPO GASTO. Son categóricos y dificilmente se le podrá predecir a los valores faltantes exitosamente. \n",
        "#Por lo tanto, se convertirán en una cadena que se logre identificar fácilmente que no estan definidos. \n",
        "gc2023['TIPO GASTO'].value_counts()"
      ],
      "metadata": {
        "colab": {
          "base_uri": "https://localhost:8080/"
        },
        "id": "StPV2sHxXMyz",
        "outputId": "0b617ff1-436c-4049-f127-1560840b43d4"
      },
      "execution_count": null,
      "outputs": [
        {
          "output_type": "execute_result",
          "data": {
            "text/plain": [
              "MTTO COMPUTO                20\n",
              "PAQUETERIA                  18\n",
              "COMISION BANCARIA           16\n",
              "ARRENDAMIENTO FINANCIERO    12\n",
              "NO DEDUCIBLE                12\n",
              "TELEFONO                    10\n",
              "CAPACITACION                 9\n",
              "COMISION MIXTA               9\n",
              "HONORARIOS PM                9\n",
              "ALIMENTOS                    8\n",
              "MTTO LOCAL                   5\n",
              "GASOLINA                     5\n",
              "DERECHOS                     4\n",
              "GERENCIA ADMON               4\n",
              "VARIOS                       4\n",
              "MENSAJERIA                   4\n",
              "MONITOREO CAMARAS ADT        4\n",
              "VALES DESPENSA               3\n",
              "RENTA COPIADORA              3\n",
              "SUSCRIPCIONES                3\n",
              "SEGUROS                      3\n",
              "HONORARIOS CONTABLES         2\n",
              "UNIFORMES                    2\n",
              "CREDITO                      2\n",
              "MTTO TRANSPORTE              2\n",
              "SUELDOS DIRECCION            2\n",
              "RENTA AUTO                   1\n",
              "MTT OFICINA                  1\n",
              "MTTO OFICINA                 1\n",
              "MAQUINARIA                   1\n",
              "MTTO MAQUINARIA              1\n",
              "IMSS/INFONAVIT               1\n",
              "PAPELERIA                    1\n",
              "PUBLICIDAD                   1\n",
              "FLETES                       1\n",
              "Name: TIPO GASTO, dtype: int64"
            ]
          },
          "metadata": {},
          "execution_count": 75
        }
      ]
    },
    {
      "cell_type": "code",
      "source": [
        "#Reemplazamos datos nulos con \"--\" para identificar facilmente que no de especificó el tipo de gasto\n",
        "gc2023['TIPO GASTO']=gc2023['TIPO GASTO'].fillna('--')"
      ],
      "metadata": {
        "id": "7L-LUqtpa9qk"
      },
      "execution_count": null,
      "outputs": []
    },
    {
      "cell_type": "code",
      "source": [
        "gc2023['TIPO GASTO'].value_counts()"
      ],
      "metadata": {
        "colab": {
          "base_uri": "https://localhost:8080/"
        },
        "id": "b-CfJXDnb560",
        "outputId": "ac13f894-fb6e-4e5d-a9d2-cd91c25d1bbe"
      },
      "execution_count": null,
      "outputs": [
        {
          "output_type": "execute_result",
          "data": {
            "text/plain": [
              "MTTO COMPUTO                20\n",
              "PAQUETERIA                  18\n",
              "COMISION BANCARIA           16\n",
              "ARRENDAMIENTO FINANCIERO    12\n",
              "NO DEDUCIBLE                12\n",
              "TELEFONO                    10\n",
              "CAPACITACION                 9\n",
              "COMISION MIXTA               9\n",
              "HONORARIOS PM                9\n",
              "ALIMENTOS                    8\n",
              "--                           8\n",
              "MTTO LOCAL                   5\n",
              "GASOLINA                     5\n",
              "DERECHOS                     4\n",
              "VARIOS                       4\n",
              "GERENCIA ADMON               4\n",
              "MENSAJERIA                   4\n",
              "MONITOREO CAMARAS ADT        4\n",
              "VALES DESPENSA               3\n",
              "RENTA COPIADORA              3\n",
              "SUSCRIPCIONES                3\n",
              "SEGUROS                      3\n",
              "MTTO TRANSPORTE              2\n",
              "UNIFORMES                    2\n",
              "CREDITO                      2\n",
              "HONORARIOS CONTABLES         2\n",
              "SUELDOS DIRECCION            2\n",
              "RENTA AUTO                   1\n",
              "MTT OFICINA                  1\n",
              "MTTO OFICINA                 1\n",
              "PAPELERIA                    1\n",
              "MTTO MAQUINARIA              1\n",
              "IMSS/INFONAVIT               1\n",
              "MAQUINARIA                   1\n",
              "PUBLICIDAD                   1\n",
              "FLETES                       1\n",
              "Name: TIPO GASTO, dtype: int64"
            ]
          },
          "metadata": {},
          "execution_count": 77
        }
      ]
    },
    {
      "cell_type": "code",
      "source": [
        "#Confirmamos que ya no se tienen nulos en ningun dataframe\n",
        "print('2021:\\n',gc2021.isnull().sum(), '\\n')\n",
        "print('2022:\\n',gc2022.isnull().sum())\n",
        "print('2023:\\n',gc2023.isnull().sum())"
      ],
      "metadata": {
        "colab": {
          "base_uri": "https://localhost:8080/"
        },
        "id": "i3QVQIZybTq-",
        "outputId": "c8a1b86a-3a28-4b4c-dc29-3252abb1f7a9"
      },
      "execution_count": null,
      "outputs": [
        {
          "output_type": "stream",
          "name": "stdout",
          "text": [
            "2021:\n",
            " FECHA         0\n",
            "TIPO GASTO    0\n",
            "TC            0\n",
            "TOTAL SAT     0\n",
            "dtype: int64 \n",
            "\n",
            "2022:\n",
            " Fecha         0\n",
            "TIPO GASTO    0\n",
            "TC            0\n",
            "TOTAL SAT     0\n",
            "dtype: int64\n",
            "2023:\n",
            " Fecha         0\n",
            "TIPO GASTO    0\n",
            "TC            0\n",
            "TOTAL SAT     0\n",
            "dtype: int64\n"
          ]
        }
      ]
    },
    {
      "cell_type": "code",
      "source": [
        "#Guardamos nuevos dataframes sin nulos como csv\n",
        "gc2021.to_csv('gastos_costos_2021_sin_nulos.csv')\n",
        "gc2022.to_csv('gastos_costos_2022_sin_nulos.csv')\n",
        "gc2023.to_csv('gastos_costos_2023_sin_nulos.csv')"
      ],
      "metadata": {
        "id": "RrvT1Kb4ceLG"
      },
      "execution_count": null,
      "outputs": []
    }
  ]
}